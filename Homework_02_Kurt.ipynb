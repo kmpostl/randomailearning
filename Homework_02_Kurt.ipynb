{
  "cells": [
    {
      "cell_type": "markdown",
      "metadata": {
        "id": "paJMAlRFVCct"
      },
      "source": [
        "# Logistic Regression Homework\n",
        "\n",
        "This is the 2nd assignment for CAP 4630 and we will implement logistic regression and apply it to two\n",
        "different datasets. \\\n",
        "You will use **\"Tasks\"** and **\"Hints\"** to finish the work. **(Total 100 Points)** \\\n",
        "You are **not** allowed to use Machine Learning libaries such as Scikit-learn and Keras.\n",
        "\n",
        "**Task Overview:**\n",
        "- Logistic Regression "
      ]
    },
    {
      "cell_type": "markdown",
      "metadata": {
        "id": "DihMSUxsVCcu"
      },
      "source": [
        "## 1 - Logistic Regression ##\n",
        "### 1.1 Packages\n",
        "\n",
        "Import useful packages for scientific computing and data processing. \n",
        "\n",
        "**Tasks:**\n",
        "1. Import numpy and rename it to np.\n",
        "2. Import pandas and rename it to pd.\n",
        "3. Import the pyplot function in the libraray of matplotlib and rename it to plt.\n",
        "\n",
        "References:\n",
        "- [numpy](www.numpy.org) is the fundamental package for scientific computing with Python.\n",
        "- [matplotlib](http://matplotlib.org) is a famous library to plot graphs in Python.\n",
        "\n",
        "**Attention:**\n",
        "1. After this renaming, you will use the new name to call functions. For example, **numpy** will become **np** in the following sections."
      ]
    },
    {
      "cell_type": "code",
      "execution_count": 2,
      "metadata": {
        "id": "OKzFgoedVCcv"
      },
      "outputs": [],
      "source": [
        "import numpy as np\n",
        "import pandas as pd\n",
        "import matplotlib.pyplot as plt\n"
      ]
    },
    {
      "cell_type": "markdown",
      "metadata": {
        "collapsed": true,
        "id": "4xeQIP5cVCcv"
      },
      "source": [
        "### 1.2 - Data Preparation ##\n",
        "\n",
        "Prepare the data for regression task. **(20 Points)**\n",
        "\n",
        "**Tasks:**\n",
        "1. Load data for logistic regression.\n",
        "2. **Generate the SCATTER PLOT of the data**.\n",
        "\n",
        "**Hints:**\n",
        "1. The data file is \"data_logistic.csv\", which are exam scores for students.\n",
        "2. The data is organized by column: x1 (exam 1 score), x2 (exam 2 score), and label y (pass 1 or fail 0).\n",
        "3. Please use different colors for postive(label=1) and negative(label=0) data.\n",
        "4. An example of scatter plots is shown below.\n",
        "\n",
        "![](https://drive.google.com/uc?export=view&id=1CPv5s4W8SkUMa_sXCIz-NejSnFj-e1IH)"
      ]
    },
    {
      "cell_type": "code",
      "execution_count": 3,
      "metadata": {
        "colab": {
          "base_uri": "https://localhost:8080/",
          "height": 296
        },
        "id": "VUu0FUejVCcw",
        "outputId": "8336a7e3-5578-4906-f92b-8b220829a9c1"
      },
      "outputs": [
        {
          "output_type": "execute_result",
          "data": {
            "text/plain": [
              "Text(0, 0.5, 'x2')"
            ]
          },
          "metadata": {},
          "execution_count": 3
        },
        {
          "output_type": "display_data",
          "data": {
            "text/plain": [
              "<Figure size 432x288 with 1 Axes>"
            ],
            "image/png": "[encoded data removed]"
          },
          "metadata": {
            "needs_background": "light"
          }
        }
      ],
      "source": [
        "df = pd.read_csv(\"data_logistic.csv\")\n",
        "groups = df.groupby('label')\n",
        "for group in groups:\n",
        "  if group[0] == 0:\n",
        "    mark = 'o'\n",
        "    color = 'olive'\n",
        "    l='Negative'\n",
        "  else:\n",
        "    mark = '+'\n",
        "    color = 'black'\n",
        "    l='Positive'\n",
        "  plt.scatter(group[1].x1, group[1].x2, marker=mark, color=color, label=l)\n",
        "\n",
        "plt.legend()\n",
        "plt.xlabel('x1')\n",
        "plt.ylabel('x2')\n"
      ]
    },
    {
      "cell_type": "markdown",
      "metadata": {
        "id": "Vhd774peVCcw"
      },
      "source": [
        "### 1.3 - Sigmoid function ##\n",
        "\n",
        "\n",
        "Implement sigmoid function so it can be called by the rest of your program. **(20 Points)**\n",
        "\n",
        "**Tasks:**\n",
        "1. Implement the sigmoid function (**def sigmoid(z):**). \n",
        "2. Test the sigmoid function by function **plotting** with test data (X, Y) where Y = sigmoid(X). \n",
        "\n",
        "**Hints:**  \n",
        "1. Given the class material, sigmoid function is defined as:\n",
        "$g(z) = \\frac{1}{1+e^{-z}}$.\n",
        "2. You may consider X = np.linspace(-5, 5, 1000) to plot the curve.\n",
        "3. Plot Y against X.\n",
        "4. An example of plot for validation is shown below:\n",
        "\n",
        "![](https://drive.google.com/uc?export=view&id=18j5oHdw78uVm2WwHsdIb4hwhpXDxR37S)"
      ]
    },
    {
      "cell_type": "code",
      "execution_count": 4,
      "metadata": {
        "id": "cJ5vPFIvVCcw"
      },
      "outputs": [],
      "source": [
        "def sigmoid(z):\n",
        "  return 1/(1+np.exp(-z))\n"
      ]
    },
    {
      "cell_type": "code",
      "execution_count": 5,
      "metadata": {
        "colab": {
          "base_uri": "https://localhost:8080/",
          "height": 298
        },
        "id": "Q56PSn4_VCcx",
        "outputId": "da6a7bad-43d0-4c4c-c90f-b198b3ef5d9c"
      },
      "outputs": [
        {
          "output_type": "execute_result",
          "data": {
            "text/plain": [
              "Text(0, 0.5, '$\\\\it{g(X)}$')"
            ]
          },
          "metadata": {},
          "execution_count": 5
        },
        {
          "output_type": "display_data",
          "data": {
            "text/plain": [
              "<Figure size 432x288 with 1 Axes>"
            ],
            "image/png": "[encoded data removed]"
          },
          "metadata": {
            "needs_background": "light"
          }
        }
      ],
      "source": [
        "X = np.linspace(-5, 5, 1000)\n",
        "plt.plot(X, sigmoid(X))\n",
        "plt.xlabel('$\\it{X}$')\n",
        "plt.ylabel('$\\it{g(X)}$')\n"
      ]
    },
    {
      "cell_type": "markdown",
      "metadata": {
        "id": "TQu_QR4DVCcx"
      },
      "source": [
        "### 1.4 - Cost function and gradient ##\n",
        "\n",
        "Implement the cross entropy cost function and its gradient for logistic regression. **(30 Points)**\n",
        "\n",
        "**Tasks:**\n",
        "1. Implement the \"cal_cost\" to compute the cost.\n",
        "2. Implement the \"cal_grad\" to compute the gradients.\n",
        "3. Test \"cal_cost\" and \"cal_grad\" with initial values and print out the results.\n",
        "\n",
        "**Hint:**\n",
        "1. The cross entropy cost function (J(θ)) in logistic regression is shown below. It involves two terms, including ylog(h) and (1-y)log(1-h) where h is the function of x.\n",
        "\n",
        "![](https://drive.google.com/uc?export=view&id=1xLhlPFI4wekwuA7lFm7ebRVt0XBZk3e7)\n",
        "\n",
        "2. The gradient of the cost J(θ) is a vector of the same length as θ where the $j$th element (for $j = 0, 1, . . . , n)$ is defined below. You may do a hand calculation to justify the first order derivative with the term above.\n",
        "\n",
        "![](https://drive.google.com/uc?export=view&id=1xfA0A0xyRv2L5JZIdedAmEZxZ3DwpOCF)\n",
        "\n",
        "3. When you implement J(θ), please use eps = 1e-15 to prevent possible \"divide by 0 exception\" in second term. You may think about the reason.\n",
        "4. You may consider the below templates for two functions:\n",
        "\n",
        "    def cal_cost(theta, X, y):\n",
        " \n",
        "        htheta = ...\n",
        "        term1 = ...  /* matrix_multiplication(log(htheta), y)\n",
        "        term2 = ...  /* matrix_multiplication(log(1-htheta+eps), (1-y))\n",
        "        J = - 1 / m * (term1 + term2) \n",
        "        \n",
        "        return cost\n",
        "        \n",
        "    \n",
        "    def cal_grad(theta, X, y):\n",
        "        \n",
        "        htheta = ...\n",
        "        term1 = ... /* matrix_multiplication(transpose(X), (htheta - y))  //you may think about why transpose(x)\n",
        "        grad = 1 / m * term1 \n",
        "    \n",
        "        return grad\n",
        "5. It involves matrix multiplication and you may consider the function of np.matmul or np.dot.   \n",
        "        \n",
        "6. Initialize the intercept term (constant term) with **ones** and the theta with **zeros**. Test the functions with these initial values. \\\n",
        "    **Expected outputs:**\\\n",
        "    Cost at initial theta : 0.6931471805599445\\\n",
        "    Gradient at inital theta : [-0.1        -10.91242026 -11.73652937]\n"
      ]
    },
    {
      "cell_type": "code",
      "execution_count": 59,
      "metadata": {
        "colab": {
          "base_uri": "https://localhost:8080/"
        },
        "id": "JKkxbO6OVCcx",
        "outputId": "53562bcf-2f66-4150-fd2d-d4b3f3d2622e"
      },
      "outputs": [
        {
          "output_type": "stream",
          "name": "stdout",
          "text": [
            "Cost at initial theta :  0.6931471805599445\n",
            "Gradient at inital theta :  [-0.1, -10.912420264687501, -11.7365293676875]\n"
          ]
        }
      ],
      "source": [
        "\n",
        "\n",
        "def cal_cost(theta, X, y):\n",
        "  eps = 1e-15\n",
        "  cost = 0\n",
        "  htheta = sigmoid(theta[0]*X[0]+ X[1] * theta[1] + X[2]* theta[2])\n",
        "  term1 = np.matmul(np.log(htheta), y)\n",
        "  term2 = np.matmul(np.log(1 - htheta + eps), (1 - y))\n",
        "  cost = -1 / float(len(X[1])) * (term1 + term2)\n",
        "  return cost\n",
        "\n",
        "def cal_grad(theta, X, y):\n",
        "  t1 = np.multiply(np.array(X[0]), theta[0])\n",
        "  t2 = np.multiply(np.array(X[1]), theta[1])\n",
        "  t3 = np.multiply(np.array(X[2]), theta[2])\n",
        "  htheta = sigmoid(t1 + t2 + t3)\n",
        "  term1 = np.matmul(np.transpose(X[0]), (htheta - y))\n",
        "  term2 = np.matmul(np.transpose(X[1]), (htheta - y))\n",
        "  term3 = np.matmul(np.transpose(X[2]), (htheta - y))\n",
        "  return  [np.multiply(term1, 1 / len(X[0])), np.multiply(term2, 1 / len(X[1])), np.multiply(term3, 1 / len(X[2]))]\n",
        "\n",
        "\n",
        "one = pd.Series([1]*len(df.x1))\n",
        "theta = [0,0,0]\n",
        "X = [one, df.x1, df.x2]\n",
        "\n",
        "print(\"Cost at initial theta : \", cal_cost(theta, X, df.label))\n",
        "\n",
        "theta = cal_grad(theta, X, df.label) \n",
        "print(\"Gradient at inital theta : \", theta)\n"
      ]
    },
    {
      "cell_type": "markdown",
      "metadata": {
        "id": "3_bR2HmrVCcy"
      },
      "source": [
        "## 1.5 Train parameters with Gradient Descent ##\n",
        "\n",
        "\n",
        "Train parameters using Gradient Descent. **(15 Points)**\n",
        "\n",
        "**Tasks:**\n",
        "1. Calculate best fit theta by Gradient Descent with learning rate of **0.001 (1e-3)** and epoch of **80K**. The initial theta from above blocks is used as initial values.\n",
        "2. Print out the best theta (the last one is considered as the best here) and its corresponding cost.\n",
        "3. **Plot the decision boundary**.\n",
        "\n",
        "**Hints:**\n",
        "1. You may take gradient descent in homework 1 as an template.\n",
        "2. Derive the boundary line from **sigmoid(theta[0]+ X1 * theta[1] + X2* theta[2])=0.5**. Think about why we get the line by setting **the activated probability to 0.5**. Also, try to calculate the final relationship between X1 and X2. When sigmoid(X) = 0.5, what is the value of x? Check the generated plot in 1.3.\n",
        "3. The validation of first 5 epochs (updated theta and cost): \\\n",
        "------Epoch 0------\\\n",
        "Theta: [0.0001     0.01091242 0.01173653]\\\n",
        "Cost: 0.6996118077359638\\\n",
        "------Epoch 1------\\\n",
        "Theta: [-0.0001129   0.00053949  0.00229352]\\\n",
        "Cost: 0.6649331468590681\\\n",
        "------Epoch 2------\\\n",
        "Theta: [-5.93604956e-05  8.33145873e-03  1.07754324e-02]\\\n",
        "Cost: 0.6679914364992459\\\n",
        "------Epoch 3------\\\n",
        "Theta: [-0.0002356   0.0004607   0.00370829]\\\n",
        "Cost: 0.6545873034874964\\\n",
        "------Epoch 4------\\\n",
        "Theta: [-0.00020363  0.00683227  0.01065138]\\\n",
        "Cost: 0.6563302142684528\n",
        "4. You may take the plots below as an exmample: \n",
        "\n",
        "![](https://drive.google.com/uc?export=view&id=1xLg9LrIF888gGXj3zRAG9iJLsyAmgPQg)\n",
        "\n",
        "5. It may take ~1 min to finish running."
      ]
    },
    {
      "cell_type": "code",
      "execution_count": 63,
      "metadata": {
        "colab": {
          "base_uri": "https://localhost:8080/"
        },
        "id": "LDNCGApIVCcy",
        "outputId": "cc21fc09-3506-4399-8862-9ecf9247c2f6"
      },
      "outputs": [
        {
          "output_type": "stream",
          "name": "stdout",
          "text": [
            "[-3.88329777  0.02947987  0.03935448]\n"
          ]
        }
      ],
      "source": [
        "lr = 1e-3\n",
        "epoch = 80000\n",
        "theta = [0,0,0]\n",
        "for i in range(epoch):\n",
        "  #print(f'------Epoch {i}------')\n",
        "  theta = theta - np.multiply(cal_grad(theta, X, df.label), lr)\n",
        "  \n",
        "  #print(theta)\n",
        "  #print(cal_cost(theta, X, df.label))\n",
        "  \n",
        "print(theta)"
      ]
    },
    {
      "cell_type": "code",
      "execution_count": 76,
      "metadata": {
        "id": "iAXmsRqeVCcy",
        "colab": {
          "base_uri": "https://localhost:8080/",
          "height": 279
        },
        "outputId": "fa9c3efb-f928-4ffd-9e83-a13decb1edcb"
      },
      "outputs": [
        {
          "output_type": "display_data",
          "data": {
            "text/plain": [
              "<Figure size 432x288 with 1 Axes>"
            ],
            "image/png": "[encoded data removed]"
          },
          "metadata": {
            "needs_background": "light"
          }
        }
      ],
      "source": [
        "for group in groups:\n",
        "  if group[0] == 0:\n",
        "    mark = 'o'\n",
        "    color = 'olive'\n",
        "    l='Negative'\n",
        "  else:\n",
        "    mark = '+'\n",
        "    color = 'black'\n",
        "    l='Positive'\n",
        "  plt.scatter(group[1].x1, group[1].x2, marker=mark, color=color, label=l)\n",
        "\n",
        "plt.legend()\n",
        "plt.xlabel('x1')\n",
        "plt.ylabel('x2')\n",
        "m = -theta[2]/theta[1]\n",
        "c = -theta[0]/theta[1]\n",
        "\n",
        "def fun(x):\n",
        "  return x*m + c\n",
        "\n",
        "def graph(formula, x_range):  \n",
        "    x = np.array(x_range)  \n",
        "    y = formula(x)\n",
        "    plt.plot(x, y)  \n",
        "    plt.show()  \n",
        "\n",
        "graph(fun, range(30, 100))\n",
        "\n"
      ]
    },
    {
      "cell_type": "markdown",
      "metadata": {
        "id": "XZBBxPOyVCcy"
      },
      "source": [
        "\n",
        "### 1.6 Evaluating Logistic Regression\n",
        "\n",
        "Evaluate the model with given data. **(15 Points)**\n",
        "\n",
        "**Tasks:**\n",
        "1. Calculate the training accuracy and **PRINT IT OUT**.\n",
        "2. Evaluate the predicted probability of the learnt model with x1 = 56 and x2 = 32 and **PRINT IT OUT**.\n",
        "\n",
        "\n",
        "**Hints:**  \n",
        "1. Positive(prediction>0.5) and negative(prediction<=0.5). \n",
        "2. The prediction results are based on acceptance probability. Given the two exam scores, we expected the model yields either high probability of \"fail\" or low probability of \"pass\".\n",
        "3. Training accuracy should be around **85%**."
      ]
    },
    {
      "cell_type": "code",
      "execution_count": 94,
      "metadata": {
        "id": "9qgejQeKVCcz",
        "colab": {
          "base_uri": "https://localhost:8080/"
        },
        "outputId": "e095cf7f-454e-4b44-f6b8-de1e93bfb72b"
      },
      "outputs": [
        {
          "output_type": "stream",
          "name": "stdout",
          "text": [
            "Training accuracy: 0.85\n",
            "x1 = 56 and x2 = 32 prediticted probability is: 0.2742666161817614\n"
          ]
        }
      ],
      "source": [
        "newData = sigmoid(theta[0] + X[1] * theta[1] + X[2]* theta[2])\n",
        "\n",
        "truePositive = 0.0\n",
        "trueNegative = 0.0\n",
        "falsePositive = 0.0\n",
        "falseNegative = 0.0\n",
        "for i in range(len(newData)):\n",
        "  if (newData[i] > .5):\n",
        "    if(df.label[i] > .5):\n",
        "      truePositive += 1.0\n",
        "    else:\n",
        "      falsePositive += 1.0\n",
        "  else:\n",
        "    if(df.label[i] > .5):\n",
        "      falseNegative += 1.0\n",
        "    else:\n",
        "      trueNegative += 1.0\n",
        "\n",
        "print(\"Training accuracy: \" + str((trueNegative + truePositive)/(truePositive + trueNegative + falsePositive + falseNegative)))\n",
        "print(\"x1 = 56 and x2 = 32 prediticted probability is: \" + str(sigmoid(theta[0] + 56 * theta[1] + 32 * theta[2])))\n",
        "#print(newData)"
      ]
    }
  ],
  "metadata": {
    "colab": {
      "provenance": [],
      "collapsed_sections": []
    },
    "coursera": {
      "course_slug": "neural-networks-deep-learning",
      "graded_item_id": "XaIWT",
      "launcher_item_id": "zAgPl"
    },
    "kernelspec": {
      "display_name": "Python 3",
      "language": "python",
      "name": "python3"
    },
    "language_info": {
      "codemirror_mode": {
        "name": "ipython",
        "version": 3
      },
      "file_extension": ".py",
      "mimetype": "text/x-python",
      "name": "python",
      "nbconvert_exporter": "python",
      "pygments_lexer": "ipython3",
      "version": "3.8.5"
    }
  },
  "nbformat": 4,
  "nbformat_minor": 0
}